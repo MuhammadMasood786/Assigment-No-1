{
 "cells": [
  {
   "cell_type": "markdown",
   "metadata": {},
   "source": [
    "# Question No # 1"
   ]
  },
  {
   "cell_type": "code",
   "execution_count": 1,
   "metadata": {},
   "outputs": [
    {
     "name": "stdout",
     "output_type": "stream",
     "text": [
      "Twinkle, twinkle, little star,\n",
      "\t How I wonder what you are! \n",
      "\t\t Up above the world so high, \n",
      "\t\t Like a diamond in the sky. \n",
      " Twinkle, twinkle, little star, \n",
      "\t How I wonder what you are\n"
     ]
    }
   ],
   "source": [
    "print(\"Twinkle, twinkle, little star,\\n\\t How I wonder what you are! \\n\\t\\t Up above the world so high, \\n\\t\\t Like a diamond in the sky. \\n Twinkle, twinkle, little star, \\n\\t How I wonder what you are\") "
   ]
  },
  {
   "cell_type": "markdown",
   "metadata": {},
   "source": [
    "# Question No # 2"
   ]
  },
  {
   "cell_type": "code",
   "execution_count": 2,
   "metadata": {},
   "outputs": [
    {
     "name": "stdout",
     "output_type": "stream",
     "text": [
      "3.7.3 (default, Apr 24 2019, 15:29:51) [MSC v.1915 64 bit (AMD64)]\n"
     ]
    }
   ],
   "source": [
    "import sys\n",
    "print(sys.version)"
   ]
  },
  {
   "cell_type": "markdown",
   "metadata": {},
   "source": [
    "# Question No # 3"
   ]
  },
  {
   "cell_type": "code",
   "execution_count": 7,
   "metadata": {},
   "outputs": [
    {
     "name": "stdout",
     "output_type": "stream",
     "text": [
      "Today is  Nov-04-2019\n"
     ]
    }
   ],
   "source": [
    "from datetime import date\n",
    "today = date.today()\n",
    "Day = today.strftime(\"%b-%d-%Y\")\n",
    "print(\"Today is \", Day)"
   ]
  },
  {
   "cell_type": "code",
   "execution_count": 9,
   "metadata": {},
   "outputs": [
    {
     "name": "stdout",
     "output_type": "stream",
     "text": [
      "it's 23:00:51  Right Now\n"
     ]
    }
   ],
   "source": [
    "from datetime import datetime\n",
    "now = datetime.now()\n",
    "current_time = now.strftime(\"%H:%M:%S\")\n",
    "print(\"it's\", current_time ,\" Right Now\")"
   ]
  },
  {
   "cell_type": "markdown",
   "metadata": {},
   "source": [
    "# Question No # 4"
   ]
  },
  {
   "cell_type": "code",
   "execution_count": 11,
   "metadata": {},
   "outputs": [
    {
     "name": "stdout",
     "output_type": "stream",
     "text": [
      "Enter The Value of Radius of The Circle: 6\n",
      "The Area of the circle is  37.69911184307752\n"
     ]
    }
   ],
   "source": [
    "import math\n",
    "r = float(input(\"Enter The Value of Radius of The Circle: \"))\n",
    "c = r*math.pi*2\n",
    "print(\"The Area of the circle is \",c)"
   ]
  },
  {
   "cell_type": "markdown",
   "metadata": {},
   "source": [
    "# Question No # 5"
   ]
  },
  {
   "cell_type": "code",
   "execution_count": 15,
   "metadata": {},
   "outputs": [
    {
     "name": "stdout",
     "output_type": "stream",
     "text": [
      "FirstName: Muhammad\n",
      "LastName: Masood\n",
      "doosaM dammahuM\n"
     ]
    }
   ],
   "source": [
    "First_Name = str(input(\"FirstName: \"))\n",
    "Last_Name = str(input(\"LastName: \"))\n",
    "Full_Name = First_Name +\" \"+ Last_Name\n",
    "print(Full_Name[::-1])"
   ]
  },
  {
   "cell_type": "markdown",
   "metadata": {},
   "source": [
    "# Question No # 6"
   ]
  },
  {
   "cell_type": "code",
   "execution_count": 16,
   "metadata": {},
   "outputs": [
    {
     "name": "stdout",
     "output_type": "stream",
     "text": [
      "Enter First Value: 3\n",
      "Enter Second Value: 4\n",
      "The Sum Of The Given Value is  7\n"
     ]
    }
   ],
   "source": [
    "Number1 = int(input(\"Enter First Value: \"))\n",
    "Number2 = int(input(\"Enter Second Value: \"))\n",
    "Sum = Number1 + Number2\n",
    "print(\"The Sum Of The Given Value is \", Sum)"
   ]
  },
  {
   "cell_type": "code",
   "execution_count": null,
   "metadata": {},
   "outputs": [],
   "source": []
  }
 ],
 "metadata": {
  "kernelspec": {
   "display_name": "Python 3",
   "language": "python",
   "name": "python3"
  },
  "language_info": {
   "codemirror_mode": {
    "name": "ipython",
    "version": 3
   },
   "file_extension": ".py",
   "mimetype": "text/x-python",
   "name": "python",
   "nbconvert_exporter": "python",
   "pygments_lexer": "ipython3",
   "version": "3.7.3"
  }
 },
 "nbformat": 4,
 "nbformat_minor": 2
}
