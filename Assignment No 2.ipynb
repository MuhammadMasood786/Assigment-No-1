{
 "cells": [
  {
   "cell_type": "markdown",
   "metadata": {},
   "source": [
    "# Question No 1"
   ]
  },
  {
   "cell_type": "code",
   "execution_count": 8,
   "metadata": {},
   "outputs": [
    {
     "name": "stdout",
     "output_type": "stream",
     "text": [
      "Enter English Number 60\n",
      "Enter Pakistan Studies Number 60\n",
      "Enter Mathametic Number 60\n",
      "Enter Islamiat Number 60\n",
      "Enter Urdu Number 60\n",
      "The Total Number You Have Achieve :  300\n",
      "B Grade\n"
     ]
    }
   ],
   "source": [
    "Eng = int(input(\"Enter English Number \"))\n",
    "Pst = int(input(\"Enter Pakistan Studies Number \"))\n",
    "Math = int(input(\"Enter Mathametic Number \"))\n",
    "Isl = int(input(\"Enter Islamiat Number \"))\n",
    "Urdu = int(input(\"Enter Urdu Number \"))\n",
    "Total = Eng + Pst + Math + Isl + Urdu\n",
    "print(\"The Total Number You Have Achieve : \", Total)\n",
    "Per = Total/500*100\n",
    "if Per>=80 and Per<=100:\n",
    "    print(\"A One Grade\")\n",
    "elif Per>=70 and Per<=79:\n",
    "    print(\"A Grade\")\n",
    "elif Per>=60 and Per<=69:\n",
    "    print(\"B Grade\")\n",
    "elif Per>=50 and Per<=59:\n",
    "    print(\"C Grade\")\n",
    "elif Per>=40 and Per<=49:\n",
    "    print(\"D Grade\")\n",
    "else:\n",
    "    print(\"Failed\")"
   ]
  },
  {
   "cell_type": "markdown",
   "metadata": {},
   "source": [
    "# Question No # 2"
   ]
  },
  {
   "cell_type": "code",
   "execution_count": 12,
   "metadata": {},
   "outputs": [
    {
     "name": "stdout",
     "output_type": "stream",
     "text": [
      "Enter Any Number: 4\n",
      "4 is the Even Number.\n"
     ]
    }
   ],
   "source": [
    "EvenOrOdd = int(input(\"Enter Any Number: \"))\n",
    "if (EvenOrOdd % 2)==0:\n",
    "    print(\"{0} is the Even Number.\".format(EvenOrOdd))\n",
    "else:\n",
    "    print(\"{0} is the Odd Number.\".format(EvenOrOdd))"
   ]
  },
  {
   "cell_type": "markdown",
   "metadata": {},
   "source": [
    "# Question No # 3"
   ]
  },
  {
   "cell_type": "code",
   "execution_count": 14,
   "metadata": {},
   "outputs": [
    {
     "name": "stdout",
     "output_type": "stream",
     "text": [
      "10\n"
     ]
    }
   ],
   "source": [
    "List = [1,2,3,4,5,6,7,8,9,10]\n",
    "ListLen = len(List)\n",
    "print(ListLen)"
   ]
  },
  {
   "cell_type": "markdown",
   "metadata": {},
   "source": [
    "# Question No # 4"
   ]
  },
  {
   "cell_type": "code",
   "execution_count": 17,
   "metadata": {},
   "outputs": [
    {
     "data": {
      "text/plain": [
       "55"
      ]
     },
     "execution_count": 17,
     "metadata": {},
     "output_type": "execute_result"
    }
   ],
   "source": [
    "SumAll = [1,2,3,4,5,6,7,8,9,10]\n",
    "sum(SumAll)"
   ]
  },
  {
   "cell_type": "markdown",
   "metadata": {},
   "source": [
    "# Question No # 5"
   ]
  },
  {
   "cell_type": "code",
   "execution_count": 21,
   "metadata": {},
   "outputs": [
    {
     "data": {
      "text/plain": [
       "786"
      ]
     },
     "execution_count": 21,
     "metadata": {},
     "output_type": "execute_result"
    }
   ],
   "source": [
    "LargerNumber = [120,125,123,234,345,456,786,280,290,150]\n",
    "max(LargerNumber)"
   ]
  },
  {
   "cell_type": "markdown",
   "metadata": {},
   "source": [
    "# Question No # 6"
   ]
  },
  {
   "cell_type": "code",
   "execution_count": 24,
   "metadata": {},
   "outputs": [
    {
     "name": "stdout",
     "output_type": "stream",
     "text": [
      "1\n",
      "1\n",
      "2\n",
      "3\n"
     ]
    }
   ],
   "source": [
    "a = [1, 1, 2, 3, 5, 8, 13, 21, 34, 55, 89]\n",
    "for i in a:\n",
    "    if i<5:\n",
    "        print(i)"
   ]
  },
  {
   "cell_type": "code",
   "execution_count": null,
   "metadata": {},
   "outputs": [],
   "source": []
  }
 ],
 "metadata": {
  "kernelspec": {
   "display_name": "Python 3",
   "language": "python",
   "name": "python3"
  },
  "language_info": {
   "codemirror_mode": {
    "name": "ipython",
    "version": 3
   },
   "file_extension": ".py",
   "mimetype": "text/x-python",
   "name": "python",
   "nbconvert_exporter": "python",
   "pygments_lexer": "ipython3",
   "version": "3.7.3"
  }
 },
 "nbformat": 4,
 "nbformat_minor": 2
}
