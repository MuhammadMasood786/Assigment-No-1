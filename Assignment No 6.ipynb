{
 "cells": [
  {
   "cell_type": "markdown",
   "metadata": {},
   "source": [
    "# Question No 1"
   ]
  },
  {
   "cell_type": "code",
   "execution_count": 2,
   "metadata": {},
   "outputs": [],
   "source": [
    "#Object-oriented programming (OOP) is a software programming model constructed around objects.\n",
    "#This model compartmentalizes data into objects (data fields) and describes object contents \n",
    "#and behavior through the declaration of classes (methods).\n",
    "\n",
    "#Object-oriented programming is based on the four principles\n",
    "\n",
    "#1.Encapsulation is the mechanism of hiding of data implementation by restricting access to public methods.\n",
    "#Instance variables are kept private and accessor methods are made public to achieve this.\n",
    "\n",
    "#2.Inheritances expresses is a relationship between two objects. \n",
    "#Using Inheritance, In derived classes we can reuse the code of existing super classes\n",
    "\n",
    "#3.Abstract means a concept or an Idea which is not associated with any particular instance.\n",
    "\n",
    "#4.It means one name many forms. It is further of two types — static and dynamic.\n",
    "#Static polymorphism is achieved using method overloading and dynamic polymorphism using method overriding. \n",
    "#It is closely related to inheritance.\n",
    "#We can write a code that works on the superclass, and it will work with any subclass type as well."
   ]
  },
  {
   "cell_type": "markdown",
   "metadata": {},
   "source": [
    "# Question No 2"
   ]
  },
  {
   "cell_type": "code",
   "execution_count": null,
   "metadata": {},
   "outputs": [],
   "source": [
    "#The programmes written with OOP are really easy to understand.\n",
    "#Reuse of code through inheritance\n",
    "#Flexibility through polymorphism\n",
    "#Everything is treated as objects, so we can model a real-world concept using OOP.\n",
    "#It is a secured development technique since data is hidden and can’t be accessed by external functions."
   ]
  },
  {
   "cell_type": "markdown",
   "metadata": {},
   "source": [
    "# Question No 3"
   ]
  },
  {
   "cell_type": "code",
   "execution_count": null,
   "metadata": {},
   "outputs": [],
   "source": [
    "#Method\n",
    "#Python method is like a function, except it is attached to an object. \n",
    "#We call a method on an object, and it possibly makes changes to that object.A method, then, belongs to a class.\n",
    "\n",
    "#Function\n",
    "#Python function is a sequence of statements that execute in a certain order, given a name. \n",
    "#They let us implement code reusability. When we talked about Python Functions,"
   ]
  },
  {
   "cell_type": "markdown",
   "metadata": {},
   "source": [
    "# Question No 4"
   ]
  },
  {
   "cell_type": "code",
   "execution_count": null,
   "metadata": {},
   "outputs": [],
   "source": [
    "#Class\n",
    "#A class is a blueprint for creating objects (a particular data structure), providing\n",
    "#initial values for state (member variables or attributes), and implementations of behavior (member functions or methods).\n",
    "\n",
    "#Object\n",
    "#An object is nothing but a self-contained component which consists of methods\n",
    "#and properties to make a particular type of data useful.Object determines the behavior of the class.\n",
    "\n",
    "#Attribute\n",
    "#classes and objects have attributes.Attributes are data stored \n",
    "#inside a class or instance and represent the state.In short, attributes store information about the instance.\n",
    "\n",
    "#Behavior\n",
    "#A class behavior determines how it will react.\n",
    "#Behavior is the only way objects can do anything to themselves or have anything done to them"
   ]
  },
  {
   "cell_type": "markdown",
   "metadata": {},
   "source": [
    "# Question No 5"
   ]
  },
  {
   "cell_type": "code",
   "execution_count": 28,
   "metadata": {},
   "outputs": [
    {
     "name": "stdout",
     "output_type": "stream",
     "text": [
      "Mercedes Benz\n",
      "AMG GT\n",
      "Black\n",
      "5\n",
      "200km/hr\n",
      "Engine Started\n",
      "None\n",
      "Gear \n",
      "None\n",
      "Engine Is Switched Off\n",
      "None\n",
      "<__main__.Car object at 0x000001E4FB70FA20>\n",
      "<__main__.Car object at 0x000001E4FB663A58>\n",
      "<__main__.Car object at 0x000001E4FB70F8D0>\n",
      "<__main__.Car object at 0x000001E4FB70FD30>\n"
     ]
    }
   ],
   "source": [
    "class Car():\n",
    "    def __init__(self,name,model,color,capacity,velocity):\n",
    "        self.name = name\n",
    "        self.model = model\n",
    "        self.color = color\n",
    "        self.capacity = capacity\n",
    "        self.velocity = velocity\n",
    "    def start(self):\n",
    "        print(\"Engine Started\")\n",
    "    def stop(self):\n",
    "        print(\"Engine Is Switched Off\")\n",
    "    def acceleration(self):\n",
    "        print(\"Gear \")\n",
    "        \n",
    "            \n",
    "Car1 = Car(\"Mercedes Benz\",\"AMG GT\",\"Black\",5,\"200km/hr\")\n",
    "print(Car1.name)\n",
    "print(Car1.model)\n",
    "print(Car1.color)\n",
    "print(Car1.capacity)\n",
    "print(Car1.velocity)\n",
    "print(Car1.start())\n",
    "print(Car1.acceleration())\n",
    "print(Car1.stop())\n",
    "Car2 = Car(\"Audi\",\"A6\",\"White\",4,\"250km/hr\")\n",
    "print(Car2)\n",
    "Car3 = Car(\"Bugatti\",\" 4I\",\"DarkGrey\",2,\"500km/hr\")\n",
    "print(Car3)\n",
    "Car4 = Car(\"Lamboghini\",\"LMI4\",\"Red\",5,\"750km/hr\")\n",
    "print(Car4)\n",
    "Car5 = Car(\"Ferrari\",\"FR5\",\"Black\",5,\"850km/hr\")\n",
    "print(Car5)\n",
    "\n",
    "        "
   ]
  }
 ],
 "metadata": {
  "kernelspec": {
   "display_name": "Python 3",
   "language": "python",
   "name": "python3"
  },
  "language_info": {
   "codemirror_mode": {
    "name": "ipython",
    "version": 3
   },
   "file_extension": ".py",
   "mimetype": "text/x-python",
   "name": "python",
   "nbconvert_exporter": "python",
   "pygments_lexer": "ipython3",
   "version": "3.7.3"
  }
 },
 "nbformat": 4,
 "nbformat_minor": 2
}
