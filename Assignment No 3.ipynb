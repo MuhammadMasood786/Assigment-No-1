{
 "cells": [
  {
   "cell_type": "markdown",
   "metadata": {},
   "source": [
    "# Question No # 1"
   ]
  },
  {
   "cell_type": "code",
   "execution_count": 1,
   "metadata": {},
   "outputs": [
    {
     "name": "stdout",
     "output_type": "stream",
     "text": [
      "Enter Any Nuumber6\n",
      "Enter Any Nuumber5\n",
      "11\n",
      "1\n",
      "30\n",
      "1\n"
     ]
    },
    {
     "data": {
      "text/plain": [
       "7776"
      ]
     },
     "execution_count": 1,
     "metadata": {},
     "output_type": "execute_result"
    }
   ],
   "source": [
    "Value1 = int(input(\"Enter Any Nuumber\"))\n",
    "Value2 = int(input(\"Enter Any Nuumber\"))\n",
    "Sum = Value1 + Value2\n",
    "Sub = Value1 - Value2\n",
    "Mul = Value1 * Value2\n",
    "Div = Value1 // Value2\n",
    "print(Sum)\n",
    "print(Sub)\n",
    "print(Mul)\n",
    "print(Div)\n",
    "pow(Value1,Value2)\n"
   ]
  },
  {
   "cell_type": "markdown",
   "metadata": {},
   "source": [
    "# Question No # 2"
   ]
  },
  {
   "cell_type": "code",
   "execution_count": 8,
   "metadata": {},
   "outputs": [
    {
     "ename": "SyntaxError",
     "evalue": "invalid syntax (<ipython-input-8-e497842ff9d7>, line 4)",
     "output_type": "error",
     "traceback": [
      "\u001b[1;36m  File \u001b[1;32m\"<ipython-input-8-e497842ff9d7>\"\u001b[1;36m, line \u001b[1;32m4\u001b[0m\n\u001b[1;33m    if (Integer=>0):\u001b[0m\n\u001b[1;37m               ^\u001b[0m\n\u001b[1;31mSyntaxError\u001b[0m\u001b[1;31m:\u001b[0m invalid syntax\n"
     ]
    }
   ],
   "source": [
    "Mix = ['A',1,'B',2,'C',3,'D',4,'E',5,'F',6]\n",
    "Numeric =[1,2,3,4,5]\n",
    "for Integer in Mix:\n",
    "    if (Integer=>0):\n",
    "        print(Integer)\n",
    "    else:\n",
    "        print(Mix)"
   ]
  },
  {
   "cell_type": "markdown",
   "metadata": {},
   "source": [
    "# Question No # 3"
   ]
  },
  {
   "cell_type": "code",
   "execution_count": 5,
   "metadata": {},
   "outputs": [
    {
     "name": "stdout",
     "output_type": "stream",
     "text": [
      "{0: 'Muhammad Masood', 1: 'Waqar Ahmed'}\n",
      "{0: 'Muhammad Masood', 1: 'Waqar Ahmed', 2: 'Zeeshan Afzal', 3: 'Bilal Ahmed'}\n"
     ]
    }
   ],
   "source": [
    "Dic ={\n",
    "    0:\"Muhammad Masood\",\n",
    "    1:\"Waqar Ahmed\"\n",
    "}\n",
    "print(Dic)\n",
    "Dic.update({2:\"Zeeshan Afzal\", 3:\"Bilal Ahmed\"})\n",
    "print(Dic)"
   ]
  },
  {
   "cell_type": "markdown",
   "metadata": {},
   "source": [
    "# Question No # 4"
   ]
  },
  {
   "cell_type": "code",
   "execution_count": 18,
   "metadata": {},
   "outputs": [
    {
     "name": "stdout",
     "output_type": "stream",
     "text": [
      "{'Apples': 100, 'Bananas': 200, 'Mangos': 300, 'Dates': 400}\n",
      "The Total Items Present is  1000\n"
     ]
    }
   ],
   "source": [
    "SumItem = {\n",
    "    'Apples':100,\n",
    "    'Bananas':200,\n",
    "    'Mangos':300,\n",
    "    'Dates':400\n",
    "}\n",
    "print(SumItem)\n",
    "print(\"The Total Items Present is \",sum(SumItem.values()))"
   ]
  },
  {
   "cell_type": "markdown",
   "metadata": {},
   "source": [
    "# Question No # 5"
   ]
  },
  {
   "cell_type": "code",
   "execution_count": 21,
   "metadata": {},
   "outputs": [
    {
     "name": "stdout",
     "output_type": "stream",
     "text": [
      "{1, 2, 3, 4, 5, 6, 7, 8, 9, 10}\n"
     ]
    }
   ],
   "source": [
    "List1 = [1,2,3,4,5,2,4,6,7,8,9,10]\n",
    "print(set(List1))"
   ]
  },
  {
   "cell_type": "code",
   "execution_count": 30,
   "metadata": {},
   "outputs": [
    {
     "name": "stdout",
     "output_type": "stream",
     "text": [
      "{'Apples': 100, 'Bananas': 200, 'Mangos': 300, 'Dates': 400}\n"
     ]
    },
    {
     "data": {
      "text/plain": [
       "True"
      ]
     },
     "execution_count": 30,
     "metadata": {},
     "output_type": "execute_result"
    }
   ],
   "source": [
    "print(SumItem)\n",
    "'Mangos' in SumItem"
   ]
  },
  {
   "cell_type": "code",
   "execution_count": null,
   "metadata": {},
   "outputs": [],
   "source": []
  }
 ],
 "metadata": {
  "kernelspec": {
   "display_name": "Python 3",
   "language": "python",
   "name": "python3"
  },
  "language_info": {
   "codemirror_mode": {
    "name": "ipython",
    "version": 3
   },
   "file_extension": ".py",
   "mimetype": "text/x-python",
   "name": "python",
   "nbconvert_exporter": "python",
   "pygments_lexer": "ipython3",
   "version": "3.7.3"
  }
 },
 "nbformat": 4,
 "nbformat_minor": 2
}
