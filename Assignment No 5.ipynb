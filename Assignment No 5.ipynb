{
 "cells": [
  {
   "cell_type": "markdown",
   "metadata": {},
   "source": [
    "# Question No 1"
   ]
  },
  {
   "cell_type": "code",
   "execution_count": 17,
   "metadata": {},
   "outputs": [
    {
     "name": "stdout",
     "output_type": "stream",
     "text": [
      "24\n",
      "Enter Any Positive Integer: 5\n"
     ]
    },
    {
     "data": {
      "text/plain": [
       "120"
      ]
     },
     "execution_count": 17,
     "metadata": {},
     "output_type": "execute_result"
    }
   ],
   "source": [
    "def Factorial(n):\n",
    "    if n == 0:\n",
    "        return 1\n",
    "    else:\n",
    "        return n*Factorial(n-1)\n",
    "    \n",
    "print(Factorial(4))\n",
    "\n",
    "#Input From User\n",
    "A = int(input(\"Enter Any Positive Integer: \"))\n",
    "Factorial(A)\n",
    "        "
   ]
  },
  {
   "cell_type": "markdown",
   "metadata": {},
   "source": [
    "# Question No 2"
   ]
  },
  {
   "cell_type": "code",
   "execution_count": 35,
   "metadata": {},
   "outputs": [
    {
     "name": "stdout",
     "output_type": "stream",
     "text": [
      "Original String :  Certified Python Programming\n",
      "No. of Upper case characters :  3\n",
      "No. of Lower case Characters :  23\n"
     ]
    }
   ],
   "source": [
    "def Count(s):\n",
    "    UpperCase = 0\n",
    "    LowerCase = 0\n",
    "    for c in s:\n",
    "        if c.isupper():\n",
    "           UpperCase+=1\n",
    "        elif c.islower():\n",
    "           LowerCase+=1\n",
    "    print (\"Original String :\",s)\n",
    "    print (\"No. of Upper case characters : \", UpperCase )\n",
    "    print (\"No. of Lower case Characters : \", LowerCase)\n",
    "\n",
    "string_test('Certified Python Programming')\n",
    "    "
   ]
  },
  {
   "cell_type": "markdown",
   "metadata": {},
   "source": [
    "# Question No 3"
   ]
  },
  {
   "cell_type": "code",
   "execution_count": 37,
   "metadata": {},
   "outputs": [
    {
     "name": "stdout",
     "output_type": "stream",
     "text": [
      "2\n",
      "4\n",
      "6\n",
      "8\n",
      "10\n"
     ]
    }
   ],
   "source": [
    "def EvenNumbers(List):\n",
    "    for Even in List:\n",
    "        if Even % 2 == 0:\n",
    "            print(Even)\n",
    "EvenNumbers([1,2,3,4,5,6,7,8,9,10])          "
   ]
  },
  {
   "cell_type": "markdown",
   "metadata": {},
   "source": [
    "# Question No 4"
   ]
  },
  {
   "cell_type": "code",
   "execution_count": 12,
   "metadata": {},
   "outputs": [
    {
     "name": "stdout",
     "output_type": "stream",
     "text": [
      "It's Palindrome\n"
     ]
    }
   ],
   "source": [
    "def palindrome(Rev):\n",
    "    Opp =Rev[::-1]\n",
    "    if Opp == Rev :\n",
    "           print(\"It's Palindrome\")\n",
    "    else:\n",
    "        print(\"It's Not Palindrome\")\n",
    "    \n",
    "palindrome(\"madam\")    "
   ]
  },
  {
   "cell_type": "markdown",
   "metadata": {},
   "source": [
    "# Question No 5"
   ]
  },
  {
   "cell_type": "code",
   "execution_count": 36,
   "metadata": {},
   "outputs": [
    {
     "data": {
      "text/plain": [
       "True"
      ]
     },
     "execution_count": 36,
     "metadata": {},
     "output_type": "execute_result"
    }
   ],
   "source": [
    "def PrimeNumber(Pno):\n",
    "    if Pno == 1:\n",
    "        return False\n",
    "    elif Pno == 2:\n",
    "        return True\n",
    "    else:\n",
    "        for x in range(2,Pno):\n",
    "            if (Pno % x == 0):\n",
    "                return False\n",
    "            else:\n",
    "                return True\n",
    "PrimeNumber(15)\n",
    "            "
   ]
  },
  {
   "cell_type": "markdown",
   "metadata": {},
   "source": [
    "# Question No 6"
   ]
  },
  {
   "cell_type": "code",
   "execution_count": 43,
   "metadata": {},
   "outputs": [
    {
     "name": "stdout",
     "output_type": "stream",
     "text": [
      "Items You Brought:  ('Utensils', 'Glories', 'Fruits')\n"
     ]
    }
   ],
   "source": [
    "def  Shopping(*Items):\n",
    "    print(\"Items You Brought: \",Items)\n",
    "    \n",
    "    \n",
    "    \n",
    "Shopping('Utensils','Glories','Fruits')\n",
    "        "
   ]
  },
  {
   "cell_type": "code",
   "execution_count": null,
   "metadata": {},
   "outputs": [],
   "source": []
  }
 ],
 "metadata": {
  "kernelspec": {
   "display_name": "Python 3",
   "language": "python",
   "name": "python3"
  },
  "language_info": {
   "codemirror_mode": {
    "name": "ipython",
    "version": 3
   },
   "file_extension": ".py",
   "mimetype": "text/x-python",
   "name": "python",
   "nbconvert_exporter": "python",
   "pygments_lexer": "ipython3",
   "version": "3.7.3"
  }
 },
 "nbformat": 4,
 "nbformat_minor": 2
}
